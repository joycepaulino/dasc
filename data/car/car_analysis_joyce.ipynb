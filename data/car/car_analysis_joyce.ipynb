{
 "cells": [
  {
   "cell_type": "code",
   "execution_count": 3,
   "metadata": {},
   "outputs": [],
   "source": [
    "import pandas as pd\n",
    "import matplotlib.pyplot as plt\n",
    "import seaborn as sns"
   ]
  },
  {
   "cell_type": "code",
   "execution_count": 14,
   "metadata": {},
   "outputs": [],
   "source": [
    "df = pd.read_csv('car.data',\n",
    "                 header = 0,\n",
    "                 names = ['buying', 'maint', 'doors', 'persons', 'lug_boot', 'safety', 'evaluation'])"
   ]
  },
  {
   "cell_type": "code",
   "execution_count": 34,
   "metadata": {},
   "outputs": [
    {
     "data": {
      "text/plain": [
       "<bound method DataFrame.info of      buying  maint  doors persons lug_boot safety evaluation\n",
       "0     vhigh  vhigh      2       2    small    med      unacc\n",
       "1     vhigh  vhigh      2       2    small   high      unacc\n",
       "2     vhigh  vhigh      2       2      med    low      unacc\n",
       "3     vhigh  vhigh      2       2      med    med      unacc\n",
       "4     vhigh  vhigh      2       2      med   high      unacc\n",
       "...     ...    ...    ...     ...      ...    ...        ...\n",
       "1722    low    low  5more    more      med    med       good\n",
       "1723    low    low  5more    more      med   high      vgood\n",
       "1724    low    low  5more    more      big    low      unacc\n",
       "1725    low    low  5more    more      big    med       good\n",
       "1726    low    low  5more    more      big   high      vgood\n",
       "\n",
       "[1727 rows x 7 columns]>"
      ]
     },
     "execution_count": 34,
     "metadata": {},
     "output_type": "execute_result"
    }
   ],
   "source": [
    "df.info"
   ]
  },
  {
   "cell_type": "code",
   "execution_count": 35,
   "metadata": {},
   "outputs": [
    {
     "data": {
      "text/plain": [
       "array(['unacc', 'acc', 'vgood', 'good'], dtype=object)"
      ]
     },
     "execution_count": 35,
     "metadata": {},
     "output_type": "execute_result"
    }
   ],
   "source": [
    "df.evaluation.unique()"
   ]
  },
  {
   "cell_type": "code",
   "execution_count": 75,
   "metadata": {},
   "outputs": [],
   "source": [
    "#buying:   vhigh, high, med, low.\n",
    "#maint:    vhigh, high, med, low.\n",
    "#doors:    2, 3, 4, 5more.\n",
    "#persons:  2, 4, more.\n",
    "#lug_boot: small, med, big.\n",
    "#safety:   low, med, high."
   ]
  },
  {
   "cell_type": "code",
   "execution_count": 76,
   "metadata": {},
   "outputs": [],
   "source": [
    "paleta = ('#ff0000','#0000ff','#007a00', '#ffff00')"
   ]
  },
  {
   "cell_type": "code",
   "execution_count": 77,
   "metadata": {},
   "outputs": [
    {
     "data": {
      "text/plain": [
       "<matplotlib.axes._subplots.AxesSubplot at 0x2b166450508>"
      ]
     },
     "execution_count": 77,
     "metadata": {},
     "output_type": "execute_result"
    },
    {
     "data": {
      "image/png": "[encoded data removed]",
      "text/plain": [
       "<Figure size 864x648 with 1 Axes>"
      ]
     },
     "metadata": {
      "needs_background": "light"
     },
     "output_type": "display_data"
    }
   ],
   "source": [
    "fig, ax = plt.subplots(figsize = (12,9))\n",
    "\n",
    "sns.countplot(x = 'maint',\n",
    "              hue = 'evaluation',\n",
    "              data = df,\n",
    "              hue_order = ['unacc', 'vgood','good', 'acc'],\n",
    "              palette = sns.color_palette(paleta))"
   ]
  },
  {
   "cell_type": "code",
   "execution_count": null,
   "metadata": {},
   "outputs": [],
   "source": []
  }
 ],
 "metadata": {
  "kernelspec": {
   "display_name": "Python 3",
   "language": "python",
   "name": "python3"
  },
  "language_info": {
   "codemirror_mode": {
    "name": "ipython",
    "version": 3
   },
   "file_extension": ".py",
   "mimetype": "text/x-python",
   "name": "python",
   "nbconvert_exporter": "python",
   "pygments_lexer": "ipython3",
   "version": "3.7.4"
  }
 },
 "nbformat": 4,
 "nbformat_minor": 4
}
